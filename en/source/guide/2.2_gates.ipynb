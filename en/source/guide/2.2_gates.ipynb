{
 "cells": [
  {
   "cell_type": "markdown",
   "metadata": {},
   "source": [
    "## 量子ゲート\n",
    "\n",
    "### 量子ゲートに共通の操作\n",
    "\n",
    "### 量子ゲートの種類\n",
    "量子ゲートは特殊ゲートと一般ゲートの二種類にわかれます。なお、Qulacsではユニタリ演算子に限らず、InstrumentやCPTP-mapをはじめとする任意の量子状態を更新する操作をゲートと呼びます。\n",
    "\n",
    "特殊ゲートは事前に指定されたゲート行列を持ち、量子ゲートに対し限定された変形しか行えないものを指します。例えば、パウリゲート、パウリでの回転ゲート、射影測定などが対応します。特殊ゲートの利点は、ゲートの特性が限定されているため量子状態の更新関数が一般ゲートに比べ効率的である点です。また、定義時に自身が各量子ビットで何らかのパウリの基底で対角化されるかの情報を保持しており、この情報は回路最適化の時に利用されます。特殊ゲートの欠点は上記の理由からゲートに対する可能な操作が限定されている点です。\n",
    "\n",
    "作用するゲート行列を露に持つゲートを一般ゲートと呼びます。一般ゲートの利点はゲート行列を好きに指定できるところですが、欠点は特殊ゲートに比べ更新が低速である点です。\n",
    "\n",
    "### 量子ゲートに共通の操作\n",
    "\n",
    "生成した量子ゲートのゲート行列は<code>get_matrix</code>関数で取得できます。control量子ビットなどはゲート行列に含まれません。特にゲート行列を持たない種類のゲート（例えばn-qubitのパウリ回転ゲート）などは取得に非常に大きなメモリと時間を要するので気を付けてください。<code>print</code>関数を使用してゲートの情報を表示できます。"
   ]
  },
  {
   "cell_type": "code",
   "execution_count": null,
   "metadata": {},
   "outputs": [],
   "source": [
    "import numpy as np\n",
    "from qulacs.gate import X\n",
    "gate = X(2)\n",
    "mat = gate.get_matrix()\n",
    "print(mat)\n",
    "print(gate)\n",
    "\n",
    "### 特殊ゲート\n",
    "下記に特殊ゲートを列挙します。\n",
    "\n",
    "#### 1量子ビットゲート\n",
    "第一引数に対象ビットの添え字を取ります\n",
    "```python\n",
    "from qulacs.gate import Identity # 単位行列\n",
    "from qulacs.gate import X, Y, Z\t# パウリ\n",
    "from qulacs.gate import H, S, Sdag, sqrtX, sqrtXdag, sqrtY, sqrtYdag # クリフォード\n",
    "from qulacs.gate import T, Tdag # Tゲート\n",
    "from qulacs.gate import P0, P1 # 0,1への射影 (規格化はされない)\n",
    "target = 3\n",
    "gate = T(target)\n",
    "print(gate)"
   ]
  },
  {
   "cell_type": "code",
   "execution_count": null,
   "metadata": {},
   "outputs": [],
   "source": [
    "<code>Identity</code>は量子状態を更新しませんが、量子回路に入れると1stepを消費するゲートとしてカウントされます。"
   ]
  },
  {
   "cell_type": "code",
   "execution_count": null,
   "metadata": {},
   "outputs": [],
   "source": [
    "#### 1量子ビット回転ゲート\n",
    "第一引数に対象ビットの添え字を、第二引数に回転角を取ります。"
   ]
  },
  {
   "cell_type": "code",
   "execution_count": null,
   "metadata": {},
   "outputs": [],
   "source": [
    "import numpy as np\n",
    "from qulacs.gate import RX, RY, RZ\n",
    "target = 0\n",
    "angle = 0.1\n",
    "gate = RX(target, angle)\n",
    "print(gate)\n",
    "print(gate.get_matrix())"
   ]
  },
  {
   "cell_type": "code",
   "execution_count": null,
   "metadata": {},
   "outputs": [],
   "source": [
    "回転操作の定義は\\f$R_X(\\theta) = \\exp(i\\frac{\\theta}{2} X)\\f$です。"
   ]
  },
  {
   "cell_type": "markdown",
   "metadata": {},
   "source": [
    "#### IBMQの基底ゲート\n",
    "IBMQのOpenQASMで定義されている、virtual-Z分解に基づくゲートです。"
   ]
  },
  {
   "cell_type": "code",
   "execution_count": null,
   "metadata": {},
   "outputs": [],
   "source": [
    "from qulacs.gate import U1,U2,U3\n",
    "print(U3(0, 0.1, 0.2, 0.3))"
   ]
  },
  {
   "cell_type": "markdown",
   "metadata": {},
   "source": [
    "定義はそれぞれ\n",
    "\n",
    "- \\f$U_1(\\lambda) = R_Z(\\lambda)\\f$\n",
    "- \\f$U_2(\\phi, \\lambda) = R_Z(\\phi+\\frac{\\pi}{2}) R_X(\\frac{\\pi}{2}) R_Z(\\lambda-\\frac{\\pi}{2})\\f$\n",
    "- \\f$U_3(\\theta, \\phi, \\lambda) = R_Z(\\phi+3\\pi) R_X(\\pi/2) R_Z(\\theta+\\pi) R_X(\\pi/2) R_Z(\\lambda)\\f$"
   ]
  },
  {
   "cell_type": "markdown",
   "metadata": {},
   "source": [
    "になります。U3は任意の1qubitユニタリ操作の自由度と一致します。"
   ]
  },
  {
   "cell_type": "markdown",
   "metadata": {},
   "source": [
    "#### 2量子ビットゲート\n",
    "第1,2引数に対象ビットの添え字を取ります。CNOTゲートは第一引数がcontrol qubitになります。残りのゲートは対称な操作です。"
   ]
  },
  {
   "cell_type": "code",
   "execution_count": null,
   "metadata": {},
   "outputs": [],
   "source": [
    "from qulacs.gate import CNOT, CZ, SWAP\n",
    "control = 5\n",
    "target = 2\n",
    "target2 = 3\n",
    "gate = CNOT(control, target)\n",
    "print(gate)\n",
    "gate = CZ(control, target)\n",
    "gate = SWAP(target, target2)"
   ]
  },
  {
   "cell_type": "markdown",
   "metadata": {},
   "source": [
    "#### 多ビットパウリ操作\n",
    "多ビットパウリ操作はターゲット量子ビットのリストとパウリ演算子のリストを引数としてゲートを定義します。n-qubitパウリ操作の更新測度は1-qubitパウリ操作の更新コストとオーダーが同じため、パウリのテンソル積はこの形式でゲートを定義した方が多くの場合得です。パウリ演算子の指定は1,2,3がそれぞれX,Y,Zに対応します。"
   ]
  },
  {
   "cell_type": "code",
   "execution_count": null,
   "metadata": {},
   "outputs": [],
   "source": [
    "from qulacs.gate import Pauli\n",
    "target_list = [0,3,5]\n",
    "pauli_index = [1,3,1] # 1:X , 2:Y, 3:Z\n",
    "gate = Pauli(target_list, pauli_index) # = X_0 Z_3 X_5\n",
    "print(gate)\n",
    "print(gate.get_matrix())"
   ]
  },
  {
   "cell_type": "markdown",
   "metadata": {},
   "source": [
    "#### 多ビットパウリ回転操作\n",
    "多ビットパウリ演算子の回転操作です。多ビットのパウリ回転は愚直にゲート行列を計算すると大きいものになりますが、この形で定義すると効率的に更新が可能です。\n",
    "\n",
    "from qulacs.gate import PauliRotation\n",
    "target_list = [0,3,5]\n",
    "pauli_index = [1,3,1] # 1:X , 2:Y, 3:Z\n",
    "angle = 0.5\n",
    "gate = PauliRotation(target_list, pauli_index, angle) # = exp(i angle/2 X_0 Z_3 X_5)\n",
    "print(gate)\n",
    "print(gate.get_matrix().shape)"
   ]
  },
  {
   "cell_type": "markdown",
   "metadata": {},
   "source": [
    "#### 可逆回路\n",
    "\\f$2^n\\f$個の添え字に対する全単射関数を与えることで、基底間の置換操作を行います。ゲート行列が置換行列になっていることと同義です。全単射でない場合正常に動作しないため注意してください。"
   ]
  },
  {
   "cell_type": "code",
   "execution_count": null,
   "metadata": {},
   "outputs": [],
   "source": [
    "from qulacs.gate import ReversibleBoolean\n",
    "def upper(val, dim):\n",
    "\treturn (val+1)%dim\n",
    "target_list = [0,1]\n",
    "gate = ReversibleBoolean(target_list, upper)\n",
    "print(gate)\n",
    "state = QuantumState(3)\n",
    "state.load(np.arange(2**3))\n",
    "print(state.get_vector())\n",
    "gate.update_quantum_state(state)\n",
    "print(state.get_vector())"
   ]
  },
  {
   "cell_type": "markdown",
   "metadata": {},
   "source": [
    "上記のコードは対象の量子ビットの部分空間でベクトルの要素を一つずつ下に下げます(一番下の要素は一番上に動きます)。"
   ]
  },
  {
   "cell_type": "markdown",
   "metadata": {},
   "source": [
    "#### 状態反射\n",
    "量子状態|a>を引数として定義される、(I-2|a><a|>)というゲートです。これは|a>という量子状態をもとに反射する操作に対応します。グローバー探索で登場するゲートです。このゲートが作用する相手の量子ビット数は、引数として与えた量子状態の量子ビット数と一致しなければいけません。"
   ]
  },
  {
   "cell_type": "code",
   "execution_count": null,
   "metadata": {},
   "outputs": [],
   "source": [
    "from qulacs.gate import StateReflection\n",
    "from qulacs import QuantumState\n",
    "axis = QuantumState(2)\n",
    "axis.set_Haar_random_state(0)\n",
    "state = QuantumState(2)\n",
    "gate = StateReflection(axis)\n",
    "gate.update_quantum_state(state)\n",
    "print(\"axis\", axis.get_vector())\n",
    "print(\"reflected\", state.get_vector())\n",
    "gate.update_quantum_state(state)\n",
    "print(\"two reflection\", state.get_vector())"
   ]
  },
  {
   "cell_type": "markdown",
   "metadata": {},
   "source": [
    "### 一般ゲート\n",
    "ゲート行列をあらわに持つ量子ゲートです。\n",
    "\n",
    "#### 密行列ゲート\n",
    "密行列を元に定義されるゲートです。"
   ]
  },
  {
   "cell_type": "code",
   "execution_count": null,
   "metadata": {},
   "outputs": [],
   "source": [
    "from qulacs.gate import DenseMatrix\n",
    "\n",
    "# 1-qubit gateの場合\n",
    "gate = DenseMatrix(0, [[0,1],[1,0]])\n",
    "print(gate)\n",
    "\n",
    "# 2-qubit gateの場合\n",
    "gate = DenseMatrix([0,1], [[1,0,0,0],[0,1,0,0],[0,0,0,1],[0,0,1,0]])\n",
    "print(gate)"
   ]
  },
  {
   "cell_type": "markdown",
   "metadata": {},
   "source": [
    "#### 疎行列ゲート\n",
    "疎行列を元に定義されるゲートです。要素が十分疎である場合、密行列より高速に更新が可能です。疎行列はscipyのcsc_matrixを用いて定義してください。"
   ]
  },
  {
   "cell_type": "code",
   "execution_count": null,
   "metadata": {},
   "outputs": [],
   "source": [
    "from qulacs import QuantumState\n",
    "from qulacs.gate import SparseMatrix\n",
    "from scipy.sparse import csc_matrix\n",
    "mat = csc_matrix((2,2))\n",
    "mat[1,1] = 1\n",
    "print(\"sparse matrix\", mat)\n",
    "\n",
    "gate = SparseMatrix([0], mat)\n",
    "print(gate)\n",
    "\n",
    "qs = QuantumState(2)\n",
    "qs.load([1,2,3,4])\n",
    "gate.update_quantum_state(qs)\n",
    "print(qs.get_vector())"
   ]
  },
  {
   "cell_type": "code",
   "execution_count": null,
   "metadata": {},
   "outputs": [],
   "source": [
    "#### コントロールビットの追加\n",
    "一般ゲートは<code>add_control_qubit</code>関数を用いてcontrol qubitを加えることが可能です。control qubitが0,1のどちらの場合にtargetに作用が生じるかも指定できます。\n",
    "\n",
    "import numpy as np\n",
    "from qulacs.gate import to_matrix_gate, X\n",
    "\n",
    "index = 0\n",
    "x_gate = X(index)\n",
    "x_mat_gate = to_matrix_gate(x_gate)\n",
    "\n",
    "# 1st-qubitが0の場合だけゲートを作用\n",
    "control_index = 1\n",
    "control_with_value = 0\n",
    "x_mat_gate.add_control_qubit(control_index, control_with_value)\n",
    "print(x_mat_gate)\n",
    "\n",
    "from qulacs import QuantumState\n",
    "state = QuantumState(3)\n",
    "state.load(np.arange(2**3))\n",
    "print(state.get_vector())\n",
    "\n",
    "x_mat_gate.update_quantum_state(state)\n",
    "print(state.get_vector())"
   ]
  },
  {
   "cell_type": "code",
   "execution_count": null,
   "metadata": {},
   "outputs": [],
   "source": [
    "### 複数のゲートから新たなゲートを作る操作\n",
    "\n",
    "\n",
    "#### ゲートの積\n",
    "続けて作用する量子ゲートを合成し、新たな単一の量子ゲートを生成できます。これにより量子状態へのアクセスを減らせます。\n",
    "\n",
    "import numpy as np\n",
    "from qulacs import QuantumState\n",
    "from qulacs.gate import X, RY, merge\n",
    "\n",
    "n = 3\n",
    "state = QuantumState(n)\n",
    "state.set_zero_state()\n",
    "\n",
    "index = 1\n",
    "x_gate = X(index)\n",
    "angle = np.pi / 4.0\n",
    "ry_gate = RY(index, angle)\n",
    "\n",
    "# ゲートを合成して新たなゲートを生成\n",
    "# 第一引数が先に作用する\n",
    "x_and_ry_gate = merge(x_gate, ry_gate)\n",
    "print(x_and_ry_gate)"
   ]
  },
  {
   "cell_type": "code",
   "execution_count": null,
   "metadata": {},
   "outputs": [],
   "source": [
    "#### ゲートの和\n",
    "複数のゲートの和を取り、新たなゲートを作ることが出来ます。例えばパウリ演算子\\f$P\\f$に対して\\f$(I+P)/2\\f$といった+1固有値空間への射影を作るときに便利です。"
   ]
  },
  {
   "cell_type": "code",
   "execution_count": null,
   "metadata": {},
   "outputs": [],
   "source": [
    "import numpy as np\n",
    "from qulacs.gate import P0,P1,add, merge, Identity, X, Z\n",
    "\n",
    "gate00 = merge(P0(0),P0(1))\n",
    "gate11 = merge(P1(0),P1(1))\n",
    "# |00><00| + |11><11|\n",
    "proj_00_or_11 = add(gate00, gate11)\n",
    "print(proj_00_or_11)\n",
    "\n",
    "gate_ii_zz = add(Identity(0), merge(Z(0),Z(1)))\n",
    "gate_ii_xx = add(Identity(0), merge(X(0),X(1)))\n",
    "proj_00_plus_11 = merge(gate_ii_zz, gate_ii_xx)\n",
    "# ((|00>+|11>)(<00|+<11|))/2 = (II + ZZ)(II + XX)/4\n",
    "proj_00_plus_11.multiply_scalar(0.25)\n",
    "print(proj_00_plus_11)"
   ]
  },
  {
   "cell_type": "code",
   "execution_count": null,
   "metadata": {},
   "outputs": [],
   "source": [
    "#### ランダムユニタリ\n",
    "ハール測度でランダムなユニタリ行列をサンプリングし、密行列ゲートを生成するには<code>RandomUnitary</code>関数を用います。"
   ]
  },
  {
   "cell_type": "code",
   "execution_count": null,
   "metadata": {},
   "outputs": [],
   "source": [
    "from qulacs.gate import RandomUnitary\n",
    "target_list = [2,3]\n",
    "gate = RandomUnitary(target_list)\n",
    "print(gate)"
   ]
  },
  {
   "cell_type": "code",
   "execution_count": null,
   "metadata": {},
   "outputs": [],
   "source": [
    "#### 確率的作用\n",
    "<code>Probabilistic</code>関数を用いて、複数のゲート操作と確率分布を与えて作成します。与える確率分布の総和が1に満たない場合、満たない確率でIdentityが作用します。"
   ]
  },
  {
   "cell_type": "code",
   "execution_count": null,
   "metadata": {},
   "outputs": [],
   "source": [
    "from qulacs.gate import Probabilistic, H, Z\n",
    "distribution = [0.2, 0.2, 0.2]\n",
    "gate_list = [H(0), Z(0), X(1)]\n",
    "gate = Probabilistic(distribution, gate_list)\n",
    "print(gate)\n",
    "\n",
    "from qulacs import QuantumState\n",
    "state = QuantumState(2)\n",
    "for _ in range(10):\n",
    "\tgate.update_quantum_state(state)\n",
    "\tprint(state.get_vector())"
   ]
  },
  {
   "cell_type": "code",
   "execution_count": null,
   "metadata": {},
   "outputs": [],
   "source": [
    "なお、確率的作用をするゲートとして、<code>BitFlipNoise</code>, <code>DephasingNoise</code>, <code>IndependentXZNoise</code>, <code>DepolarizingNoise</code>, <code>TwoQubitDepolarizingNoise</code>ゲートが定義されています。それぞれ、エラー確率を入れることで<code>Probabilistic</code>のインスタンスが生成されます。"
   ]
  },
  {
   "cell_type": "code",
   "execution_count": null,
   "metadata": {},
   "outputs": [],
   "source": [
    "from qulacs.gate import BitFlipNoise, DephasingNoise, IndependentXZNoise, DepolarizingNoise, TwoQubitDepolarizingNoise\n",
    "target = 0\n",
    "second_target = 1\n",
    "error_prob = 0.8\n",
    "gate = BitFlipNoise(target, error_prob) # X: prob\n",
    "gate = DephasingNoise(target, error_prob) # Z: prob\n",
    "gate = IndependentXZNoise(target, error_prob) # X,Z : prob*(1-prob), Y: prob*prob\n",
    "gate = DepolarizingNoise(target, error_prob) # X,Y,Z : prob/3\n",
    "gate = TwoQubitDepolarizingNoise(target, second_target, error_prob) # {I,X,Y,Z} \\times {I,X,Y,Z} \\setminus {II} : prob/15\n",
    "\n",
    "from qulacs import QuantumState\n",
    "state = QuantumState(2)\n",
    "for _ in range(10):\n",
    "\tgate.update_quantum_state(state)\n",
    "\tprint(state.get_vector())"
   ]
  },
  {
   "cell_type": "code",
   "execution_count": null,
   "metadata": {},
   "outputs": [],
   "source": [
    "#### CPTP写像\n",
    "<code>CPTP</code>は完全性を満たすクラウス演算子のリストを与えて作成します。\n",
    "\n",
    "from qulacs.gate import merge,CPTP, P0,P1\n",
    "\n",
    "gate00 = merge(P0(0),P0(1))\n",
    "gate01 = merge(P0(0),P1(1))\n",
    "gate10 = merge(P1(0),P0(1))\n",
    "gate11 = merge(P1(0),P1(1))\n",
    "\n",
    "gate_list = [gate00, gate01, gate10, gate11]\n",
    "gate = CPTP(gate_list)\n",
    "\n",
    "from qulacs import QuantumState\n",
    "from qulacs.gate import H,merge\n",
    "state = QuantumState(2)\n",
    "for _ in range(10):\n",
    "\tstate.set_zero_state()\n",
    "\tmerge(H(0),H(1)).update_quantum_state(state)\n",
    "\tgate.update_quantum_state(state)\n",
    "\tprint(state.get_vector())"
   ]
  },
  {
   "cell_type": "code",
   "execution_count": null,
   "metadata": {},
   "outputs": [],
   "source": [
    "なお、CPTP-mapとして<code>AmplitudeDampingNoise</code>ゲートが定義されています。"
   ]
  },
  {
   "cell_type": "code",
   "execution_count": null,
   "metadata": {},
   "outputs": [],
   "source": [
    "from qulacs.gate import AmplitudeDampingNoise\n",
    "target = 0\n",
    "damping_rate = 0.1\n",
    "AmplitudeDampingNoise(target, damping_rate) # K_0: [[1,0],[0,sqrt(1-p)]], K_1: [[0,sqrt(p)], [0,0]]"
   ]
  },
  {
   "cell_type": "markdown",
   "metadata": {},
   "source": [
    "#### Instrument\n",
    "Instrumentは一般のCPTP-mapの操作に加え、ランダムに作用したクラウス演算子の添え字を取得する操作です。例えば、Z基底での測定は<code>P0</code>と<code>P1</code>からなるCPTP-mapを作用し、どちらが作用したかを知ることに相当します。\n",
    "cppsimでは<code>Instrument</code>関数にCPTP-mapの情報と、作用したクラウス演算子の添え字を書きこむ古典レジスタのアドレスを指定することで実現します。"
   ]
  },
  {
   "cell_type": "code",
   "execution_count": null,
   "metadata": {},
   "outputs": [],
   "source": [
    "from qulacs import QuantumState\n",
    "from qulacs.gate import merge,Instrument, P0,P1\n",
    "\n",
    "gate00 = merge(P0(0),P0(1))\n",
    "gate01 = merge(P1(0),P0(1))\n",
    "gate10 = merge(P0(0),P1(1))\n",
    "gate11 = merge(P1(0),P1(1))\n",
    "\n",
    "gate_list = [gate00, gate01, gate10, gate11]\n",
    "classical_pos = 0\n",
    "gate = Instrument(gate_list, classical_pos)\n",
    "\n",
    "from qulacs import QuantumState\n",
    "from qulacs.gate import H,merge\n",
    "state = QuantumState(2)\n",
    "for index in range(10):\n",
    "\tstate.set_zero_state()\n",
    "\tmerge(H(0),H(1)).update_quantum_state(state)\n",
    "\tgate.update_quantum_state(state)\n",
    "\tresult = state.get_classical_value(classical_pos)\n",
    "\tprint(index, format(result,\"b\").zfill(2), state.get_vector())"
   ]
  },
  {
   "cell_type": "markdown",
   "metadata": {},
   "source": [
    "なお、Instrumentとして<code>Measurement</code>ゲートが定義されています。"
   ]
  },
  {
   "cell_type": "code",
   "execution_count": null,
   "metadata": {},
   "outputs": [],
   "source": [
    "from qulacs.gate import Measurement\n",
    "target = 0\n",
    "classical_pos = 0\n",
    "gate = Measurement(target, classical_pos)"
   ]
  },
  {
   "cell_type": "code",
   "execution_count": null,
   "metadata": {},
   "outputs": [],
   "source": [
    "#### Adaptive操作\n",
    "古典レジスタの値の可変長リストを引数としブール値を返す関数を用いて、古典レジスタから求まる条件に応じて操作を行うか決定するゲートです。条件はpythonの関数として記述することができます。pythonの関数は<code>unsigned int</code>型のリストを引数として受け取り、<code>bool</code>型を返す関数でなくてはなりません。"
   ]
  },
  {
   "cell_type": "code",
   "execution_count": null,
   "metadata": {},
   "outputs": [],
   "source": [
    "from qulacs.gate import Adaptive, X\n",
    "\n",
    "def func(list):\n",
    "\tprint(\"func is called! content is \",list)\n",
    "\treturn list[0]==1\n",
    "\n",
    "\n",
    "gate = Adaptive(X(0), func)\n",
    "\n",
    "state = QuantumState(1)\n",
    "state.set_zero_state()\n",
    "\n",
    "# funcがFalseを返すため、Xは作用しない\n",
    "state.set_classical_value(0,0)\n",
    "gate.update_quantum_state(state)\n",
    "print(state.get_vector())\n",
    "\n",
    "# funcがTrueを返すため、Xが作用する\n",
    "state.set_classical_value(0,1)\n",
    "gate.update_quantum_state(state)\n",
    "print(state.get_vector())"
   ]
  },
  {
   "cell_type": "markdown",
   "metadata": {},
   "source": [
    "## 物理量\n",
    "### パウリ演算子\n",
    "オブザーバブルは実係数を持つパウリ演算子の線形結合として表現されます。<code>PauliOperator</code>クラスはその中のそれぞれの項を表す、$n$-qubitパウリ演算子の元に係数を付与したものを表現するクラスです。ゲートと異なり、量子状態の更新はできません。"
   ]
  },
  {
   "cell_type": "code",
   "execution_count": null,
   "metadata": {},
   "outputs": [],
   "source": [
    "#### パウリ演算子の生成と状態の取得"
   ]
  },
  {
   "cell_type": "code",
   "execution_count": null,
   "metadata": {},
   "outputs": [],
   "source": [
    "from qulacs import PauliOperator\n",
    "coef = 0.1\n",
    "s = \"X 0 Y 1 Z 3\"\n",
    "pauli = PauliOperator(s, coef)\n",
    "\n",
    "# pauliの記号を後から追加\n",
    "pauli.add_single_Pauli(3, 2)\n",
    "\n",
    "# pauliの各記号の添え字を取得\n",
    "index_list = pauli.get_index_list()\n",
    "\n",
    "# pauliの各記号を取得 (I,X,Y,Z -> 0,1,2,3)\n",
    "pauli_id_list = pauli.get_pauli_id_list()\n",
    "\n",
    "# pauliの係数を取得\n",
    "coef = pauli.get_coef()\n",
    "\n",
    "# pauli演算子のコピーを作成\n",
    "another_pauli = pauli.copy()\n",
    "\n",
    "s = [\"I\",\"X\",\"Y\",\"Z\"]\n",
    "pauli_str = [s[i] for i in pauli_id_list]\n",
    "terms_str = [item[0]+str(item[1]) for item in zip(pauli_str,index_list)]\n",
    "full_str = str(coef) + \" \" + \" \".join(terms_str)\n",
    "print(full_str)"
   ]
  },
  {
   "cell_type": "code",
   "execution_count": null,
   "metadata": {},
   "outputs": [],
   "source": [
    "#### パウリ演算子の期待値\n",
    "状態に対してパウリ演算子の期待値や遷移モーメントを評価できます。\n",
    "```python\n",
    "from qulacs import PauliOperator, QuantumState\n",
    "\n",
    "n = 5\n",
    "coef = 2.0\n",
    "Pauli_string = \"X 0 X 1 Y 2 Z 4\"\n",
    "pauli = Pauli(Pauli_string,coef)\n",
    "\n",
    "# 期待値の計算 <a|H|a>\n",
    "state = QuantumState(n)\n",
    "state.set_Haar_random_state()\n",
    "value = pauli.get_expectation_value(state)\n",
    "print(\"expect\", value)\n",
    "\n",
    "# 遷移モーメントの計算 <a|H|b>\n",
    "# 第一引数がブラ側に来る\n",
    "bra = QuantumState(n)\n",
    "bra.set_Haar_random_state()\n",
    "value = pauli.get_transition_amplitude(bra, state)\n",
    "print(\"transition\", value)\n",
    "```\n",
    "\n",
    "```\n",
    "expect (-0.013936248917618807-0j)\n",
    "transition (-0.009179829550387531-0.02931360609180049j)\n",
    "```"
   ]
  },
  {
   "cell_type": "code",
   "execution_count": null,
   "metadata": {},
   "outputs": [],
   "source": [
    "### 一般の線形演算子\n",
    "線形演算子<code>GeneralQuantumOperator</code>はパウリ演算子の複素数の線形結合で表されます。係数付きのPauliOperatorを項として<code>add_operator</code>で追加することが出来ます。\n",
    "```python\n",
    "from qulacs import GeneralQuantumOperator, PauliOperator, QuantumState\n",
    "\n",
    "n = 5\n",
    "operator = GeneralQuantumOperator(n)\n",
    "\n",
    "# pauli演算子を追加できる\n",
    "coef = 2.0+0.5j\n",
    "Pauli_string = \"X 0 X 1 Y 2 Z 4\"\n",
    "pauli = Pauli(Pauli_string,coef)\n",
    "operator.add_operator(pauli)\n",
    "# 直接係数と文字列から追加することもできる\n",
    "operator.add_operator(0.5j, \"Y 1 Z 4\")\n",
    "\n",
    "# 項の数を取得\n",
    "term_count = operator.get_term_count()\n",
    "\n",
    "# 量子ビット数を取得\n",
    "qubit_count = operator.get_qubit_count()\n",
    "\n",
    "# 特定の項をPauliOperatorとして取得\n",
    "index = 1\n",
    "pauli = operator.get_term(index)\n",
    "\n",
    "\n",
    "# 期待値の計算 <a|H|a>\n",
    "## 一般に自己随伴ではないので複素が帰りうる\n",
    "state = QuantumState(n)\n",
    "state.set_Haar_random_state()\n",
    "value = operator.get_expectation_value(state)\n",
    "print(\"expect\", value)\n",
    "\n",
    "# 遷移モーメントの計算 <a|H|b>\n",
    "# 第一引数がブラ側に来る\n",
    "bra = QuantumState(n)\n",
    "bra.set_Haar_random_state()\n",
    "value = operator.get_transition_amplitude(bra, state)\n",
    "print(\"transition\", value)\n",
    "```\n",
    "```\n",
    "expect (0.01844802681960955+0.05946837146359432j)\n",
    "transition (-0.00359496979054156+0.0640782452494485j)\n",
    "```"
   ]
  },
  {
   "cell_type": "code",
   "execution_count": null,
   "metadata": {},
   "outputs": [],
   "source": [
    "#### OpenFermionを用いたオブザーバブルの生成\n",
    "OpenFermionは化学計算で解くべきハミルトニアンをパウリ演算子の表現で与えてくれるツールです。このツールの出力をファイルまたは文字列の形で読み取り、演算子の形で使用することが可能です。\n",
    "\n",
    "```python\n",
    "from qulacs.quantum_operator import create_quantum_operator_from_openfermion_file\n",
    "from qulacs.quantum_operator import create_quantum_operator_from_openfermion_text\n",
    "\n",
    "open_fermion_text = \"\"\"\n",
    "(-0.8126100000000005+0j) [] +\n",
    "(0.04532175+0j) [X0 Z1 X2] +\n",
    "(0.04532175+0j) [X0 Z1 X2 Z3] +\n",
    "(0.04532175+0j) [Y0 Z1 Y2] +\n",
    "(0.04532175+0j) [Y0 Z1 Y2 Z3] +\n",
    "(0.17120100000000002+0j) [Z0] +\n",
    "(0.17120100000000002+0j) [Z0 Z1] +\n",
    "(0.165868+0j) [Z0 Z1 Z2] +\n",
    "(0.165868+0j) [Z0 Z1 Z2 Z3] +\n",
    "(0.12054625+0j) [Z0 Z2] +\n",
    "(0.12054625+0j) [Z0 Z2 Z3] +\n",
    "(0.16862325+0j) [Z1] +\n",
    "(-0.22279649999999998+0j) [Z1 Z2 Z3] +\n",
    "(0.17434925+0j) [Z1 Z3] +\n",
    "(-0.22279649999999998+0j) [Z2]\n",
    "\"\"\"\n",
    "\n",
    "operator = create_quantum_operator_from_openfermion_text(open_fermion_text)\n",
    "print(operator.get_term_count())\n",
    "print(operator.get_qubit_count())\n",
    "# create_quantum_operator_from_openfermion_fileの場合は上記が書かれたファイルのパスを引数で指定する。\n",
    "```\n",
    "\n",
    "### エルミート演算子/オブザーバブル\n",
    "エルミート演算子はパウリ演算子の実数での線形結合で表されます。固有値あるいは期待値が実数であることを保証される以外、<code>GeneralQuatnumOperator</code>クラスと等価です。\n",
    "\n",
    "外部ファイルから読み込んで処理をする関数は<code>quantum_operator</code>を<code>observable</code>に置き換えて\n",
    "<code>create_observable_from_openfermion_file</code>\n",
    "<code>create_observable_from_openfermion_text</code>\n",
    "<code>create_split_observable</code>\n",
    "などの関数で可能です。\n",
    "\n",
    "#### 演算子を対角項と非対角な項に分離する\n",
    "演算子をファイルからで読み込む際、<code>create_split_observable</code>関数で対角成分と非対角成分に分離できます。\n",
    "\n",
    "```python\n",
    "from qulacs.observable import create_split_observable, create_observable_from_openfermion_file\n",
    "\n",
    "# 事前にH2.txtをopenfermonの形式で配置する必要があります。\n",
    "operator = create_observable_from_openfermion_file(\"./H2.txt\")\n",
    "diag, nondiag = create_split_observable(\"./H2.txt\")\n",
    "print(operator.get_term_count(), diag.get_term_count(), nondiag.get_term_count())\n",
    "print(operator.get_qubit_count(), diag.get_qubit_count(), nondiag.get_qubit_count())\n",
    "```"
   ]
  }
 ],
 "metadata": {
  "file_extension": ".py",
  "kernelspec": {
   "display_name": "python3",
   "language": "python",
   "name": "python3"
  },
  "language_info": {
   "codemirror_mode": {
    "name": "ipython",
    "version": 3
   },
   "file_extension": ".py",
   "mimetype": "text/x-python",
   "name": "python",
   "nbconvert_exporter": "python",
   "pygments_lexer": "ipython3",
   "version": "3.7.3"
  },
  "mimetype": "text/x-python",
  "name": "python",
  "npconvert_exporter": "python",
  "pygments_lexer": "ipython3",
  "version": 3
 },
 "nbformat": 4,
 "nbformat_minor": 4
}
