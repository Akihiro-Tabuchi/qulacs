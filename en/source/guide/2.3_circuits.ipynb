{
 "cells": [
  {
   "cell_type": "code",
   "execution_count": null,
   "metadata": {},
   "outputs": [],
   "source": [
    "## 量子回路\n",
    "\n",
    "### 量子回路の構成\n",
    "量子回路は量子ゲートの集合として表されます。\n",
    "例えば以下のように量子回路を構成できます。"
   ]
  },
  {
   "cell_type": "code",
   "execution_count": null,
   "metadata": {},
   "outputs": [],
   "source": [
    "```python\n",
    "from qulacs import QuantumState, QuantumCircuit\n",
    "from qulacs.gate import Z\n",
    "n = 3\n",
    "state = QuantumState(n)\n",
    "state.set_zero_state()\n",
    "\n",
    "circuit = QuantumCircuit(n)\n",
    "\n",
    "# 量子回路にhadamardゲートを追加\n",
    "for i in range(n):\n",
    "    circuit.add_H_gate(i)\n",
    "\n",
    "# ゲートを生成し、それを追加することもできる。\n",
    "for i in range(n):\n",
    "    circuit.add_gate(Z(i))\n",
    "\n",
    "# 量子回路を状態に作用\n",
    "circuit.update_quantum_state(state)\n",
    "\n",
    "print(state.get_vector())\n",
    "```\n",
    "```\n",
    "[ 0.35355339+0.j -0.35355339-0.j -0.35355339-0.j  0.35355339+0.j\n",
    " -0.35355339-0.j  0.35355339+0.j  0.35355339+0.j -0.35355339-0.j]\n",
    "```"
   ]
  },
  {
   "cell_type": "code",
   "execution_count": null,
   "metadata": {},
   "outputs": [],
   "source": [
    "### 量子回路のdepthの計算と最適化\n",
    "\n",
    "量子ゲートをまとめて一つの量子ゲートとすることで、量子ゲートの数を減らすことができ、数値計算の時間を短縮できることがあります。（もちろん、対象となる量子ビットの数が増える場合や、専用関数を持つ量子ゲートを合成して専用関数を持たない量子ゲートにしてしまった場合は、トータルで計算時間が減少するかは状況に依ります。）\n",
    "\n",
    "下記のコードでは<code>optimize</code>関数を用いて、量子回路の量子ゲートをターゲットとなる量子ビットが3つになるまで貪欲法で合成を繰り返します。"
   ]
  },
  {
   "cell_type": "code",
   "execution_count": null,
   "metadata": {},
   "outputs": [],
   "source": [
    "```python\n",
    "from qulacs import QuantumCircuit\n",
    "from qulacs.circuit import QuantumCircuitOptimizer\n",
    "n = 5\n",
    "depth = 10\n",
    "circuit = QuantumCircuit(n)\n",
    "for d in range(depth):\n",
    "    for i in range(n):\n",
    "        circuit.add_H_gate(i)\n",
    "\n",
    "# depthを計算(depth=10)\n",
    "print(circuit.calculate_depth())\n",
    "\n",
    "# 最適化\n",
    "opt = QuantumCircuitOptimizer()\n",
    "# 作成を許す最大の量子ゲートのサイズ\n",
    "max_block_size = 1\n",
    "opt.optimize(circuit, max_block_size)\n",
    "\n",
    "# depthを計算(depth=1へ)\n",
    "print(circuit.calculate_depth())\n",
    "```\n",
    "```\n",
    "10\n",
    "1\n",
    "```"
   ]
  },
  {
   "cell_type": "code",
   "execution_count": null,
   "metadata": {},
   "outputs": [],
   "source": [
    "### 量子回路の情報デバッグ\n",
    "量子回路を<code>print</code>すると、量子回路に含まれるゲートの統計情報などが表示されます。"
   ]
  },
  {
   "cell_type": "code",
   "execution_count": null,
   "metadata": {},
   "outputs": [],
   "source": [
    "```python\n",
    "from qulacs import QuantumCircuit\n",
    "from qulacs.circuit import QuantumCircuitOptimizer\n",
    "n = 5\n",
    "depth = 10\n",
    "circuit = QuantumCircuit(n)\n",
    "for d in range(depth):\n",
    "\tfor i in range(n):\n",
    "\t\tcircuit.add_H_gate(i)\n",
    "\n",
    "\n",
    "print(circuit)\n",
    "```\n",
    "```\n",
    "*** Quantum Circuit Info ***\n",
    "# of qubit: 5\n",
    "# of step : 10\n",
    "# of gate : 50\n",
    "# of 1 qubit gate: 50\n",
    "Clifford  : yes\n",
    "Gaussian  : no\n",
    "```"
   ]
  },
  {
   "cell_type": "code",
   "execution_count": null,
   "metadata": {},
   "outputs": [],
   "source": [
    "## 変分量子回路\n",
    "量子回路をParametricQuantumCircuitクラスとして定義すると、通所のQuantumCircuitクラスの関数に加え、変分法を用いて量子回路を最適化するのに便利ないくつかの関数を利用することができます。\n",
    "\n",
    "### 変分量子回路の利用例\n",
    "\n",
    "一つの回転角を持つ量子ゲート(X-rot, Y-rot, Z-rot, multi_qubit_pauli_rotation)はパラメトリックな量子ゲートとして量子回路に追加することができます。パラメトリックなゲートとして追加された量子ゲートについては、量子回路の構成後にパラメトリックなゲート数を取り出したり、後から回転角を変更することができます。"
   ]
  },
  {
   "cell_type": "code",
   "execution_count": null,
   "metadata": {},
   "outputs": [],
   "source": [
    "```python\n",
    "from qulacs import ParametricQuantumCircuit\n",
    "from qulacs import QuantumState\n",
    "import numpy as np\n",
    "\n",
    "n = 5\n",
    "depth = 10\n",
    "\n",
    "# construct parametric quantum circuit with random rotation\n",
    "circuit = ParametricQuantumCircuit(n)\n",
    "for d in range(depth):\n",
    "\tfor i in range(n):\n",
    "\t\tangle = np.random.rand()\n",
    "\t\tcircuit.add_parametric_RX_gate(i,angle)\n",
    "\t\tangle = np.random.rand()\n",
    "\t\tcircuit.add_parametric_RY_gate(i,angle)\n",
    "\t\tangle = np.random.rand()\n",
    "\t\tcircuit.add_parametric_RZ_gate(i,angle)\n",
    "\tfor i in range(d%2, n-1, 2):\n",
    "\t\tcircuit.add_CNOT_gate(i,i+1)\n",
    "\n",
    "# add multi-qubit Pauli rotation gate as parametric gate (X_0 Y_3 Y_1 X_4)\n",
    "target = [0,3,1,4]\n",
    "pauli_ids = [1,2,2,1]\n",
    "angle = np.random.rand()\n",
    "circuit.add_parametric_multi_Pauli_rotation_gate(target, pauli_ids, angle)\n",
    "\n",
    "# get variable parameter count, and get current parameter\n",
    "parameter_count = circuit.get_parameter_count()\n",
    "param = [circuit.get_parameter(ind) for ind in range(parameter_count)]\n",
    "\n",
    "# set 3rd parameter to 0\n",
    "circuit.set_parameter(3, 0.)\n",
    "\n",
    "# update quantum state\n",
    "state = QuantumState(n)\n",
    "circuit.update_quantum_state(state)\n",
    "\n",
    "# output state and circuit info\n",
    "print(state)\n",
    "print(circuit)\n"
   ]
  }
 ],
 "metadata": {
  "file_extension": ".py",
  "kernelspec": {
   "display_name": "python3",
   "language": "python",
   "name": "python3"
  },
  "language_info": {
   "codemirror_mode": {
    "name": "ipython",
    "version": 3
   },
   "file_extension": ".py",
   "mimetype": "text/x-python",
   "name": "python",
   "nbconvert_exporter": "python",
   "pygments_lexer": "ipython3",
   "version": "3.7.3"
  },
  "mimetype": "text/x-python",
  "name": "python",
  "npconvert_exporter": "python",
  "pygments_lexer": "ipython3",
  "version": 3
 },
 "nbformat": 4,
 "nbformat_minor": 4
}
