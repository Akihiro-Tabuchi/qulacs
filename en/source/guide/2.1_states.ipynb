{
 "cells": [
  {
   "cell_type": "markdown",
   "metadata": {},
   "source": [
    "# Qulacs Classes"
   ]
  },
  {
   "cell_type": "markdown",
   "metadata": {},
   "source": [
    "## QuantumStateクラス\n",
    "complex128の精度で\\f$2^n\\f$個の複素配列をCPU/GPU上に確保し管理するクラスです。状態ベクトルの移動や変換の他、状態に関する情報の計算や変形をサポートします。\n",
    "\n",
    "### 生成と破棄\n",
    "インスタンス生成時に必要なメモリが確保されます."
   ]
  },
  {
   "cell_type": "code",
   "execution_count": 1,
   "metadata": {},
   "outputs": [],
   "source": [
    "from qulacs import QuantumState\n",
    "n = 2\n",
    "state = QuantumState(n)"
   ]
  },
  {
   "cell_type": "markdown",
   "metadata": {},
   "source": [
    "<code>\\_\\_repr\\_\\_</code>関数のオーバーライドにより状態ベクトルのフォーマットされた表示を提供します。"
   ]
  },
  {
   "cell_type": "code",
   "execution_count": 2,
   "metadata": {},
   "outputs": [
    {
     "output_type": "stream",
     "name": "stdout",
     "text": "*** Quantum State ***\n * Qubit Count : 2\n * Dimension   : 4\n * State vector : \n(1,0)\n(0,0)\n(0,0)\n(0,0)\n\n"
    }
   ],
   "source": [
    "print(state)"
   ]
  },
  {
   "cell_type": "markdown",
   "metadata": {},
   "source": [
    "メモリはpythonがインスタンスを破棄した段階で解放されますが、メモリ解放のために明示的に破棄したい場合は<code>del</code>で解放できます。"
   ]
  },
  {
   "cell_type": "code",
   "execution_count": 3,
   "metadata": {},
   "outputs": [],
   "source": [
    "del state"
   ]
  },
  {
   "cell_type": "markdown",
   "metadata": {},
   "source": [
    "### 量子状態とnumpy array間の変換\n",
    "また、<code>get_vector</code>および<code>load</code>関数で量子状態とnumpy arrayの相互変換が可能です。ノルムが保存しているかなどは原則チェックされません。"
   ]
  },
  {
   "cell_type": "code",
   "execution_count": 4,
   "metadata": {},
   "outputs": [
    {
     "output_type": "stream",
     "name": "stdout",
     "text": "[1.+0.j 0.+0.j 0.+0.j 0.+0.j]\n[0.+0.j 1.+0.j 2.+0.j 3.+0.j]\n"
    }
   ],
   "source": [
    "from qulacs import QuantumState\n",
    "\n",
    "state = QuantumState(2)\n",
    "vec = state.get_vector()\n",
    "print(vec)\n",
    "state.load([0,1,2,3])\n",
    "print(state.get_vector())\n",
    ""
   ]
  },
  {
   "cell_type": "markdown",
   "metadata": {},
   "source": [
    "### 量子状態間のコピー\n",
    "量子状態は<code>copy</code>で自身と同じインスタンスを新たに生成できます。また<code>load</code>関数に量子状態を与えることで、既存の量子状態に新たに領域を確保することなく別の量子状態の量子ベクトルをコピーすることが出来ます。これにより既に確保した領域を再利用できます。既に持っている量子状態と同じサイズの状態ベクトルを確保して、状態のコピーはしなくてよい場合は<code>allocate_buffer</code>関数を使えます。"
   ]
  },
  {
   "cell_type": "code",
   "execution_count": 5,
   "metadata": {},
   "outputs": [],
   "source": [
    "from qulacs import QuantumState\n",
    "\n",
    "initial_state = QuantumState(3)\n",
    "buffer = initial_state.allocate_buffer()\n",
    "for ind in range(10):\n",
    "\tbuffer.load(initial_state)\n",
    "\t# some computation and get results"
   ]
  },
  {
   "cell_type": "markdown",
   "metadata": {},
   "source": [
    "### 量子状態の初期化\n",
    "下記は量子状態を特定の状態に初期化する関数です。"
   ]
  },
  {
   "cell_type": "code",
   "execution_count": 6,
   "metadata": {},
   "outputs": [],
   "source": [
    "from qulacs import QuantumState\n",
    "\n",
    "n = 3\n",
    "state = QuantumState(n)"
   ]
  },
  {
   "cell_type": "code",
   "execution_count": 7,
   "metadata": {},
   "outputs": [
    {
     "output_type": "error",
     "ename": "SyntaxError",
     "evalue": "invalid syntax (<ipython-input-7-2e89d96d89f2>, line 13)",
     "traceback": [
      "\u001b[0;36m  File \u001b[0;32m\"<ipython-input-7-2e89d96d89f2>\"\u001b[0;36m, line \u001b[0;32m13\u001b[0m\n\u001b[0;31m    ```\u001b[0m\n\u001b[0m    ^\u001b[0m\n\u001b[0;31mSyntaxError\u001b[0m\u001b[0;31m:\u001b[0m invalid syntax\n"
     ]
    }
   ],
   "source": [
    "# |0>状態へ初期化\n",
    "state.set_zero_state()\n",
    "print(state.get_vector())\n",
    "\n",
    "# 指定値の二進数表記の計算基底へ初期化\n",
    "state.set_computational_basis(0b101)\n",
    "print(state.get_vector())\n",
    "\n",
    "# 引数の値をシードとしてハール測度でランダムな純粋状態へ初期化\n",
    "# 指定値が無い場合はtime関数がシードとして使われる。疑似乱数はxorshiftを利用。\n",
    "state.set_Haar_random_state(0)\n",
    "print(state.get_vector())\n",
    "``"
   ]
  },
  {
   "cell_type": "markdown",
   "metadata": {},
   "source": [
    "### 量子状態の検査\n",
    "下記は量子状態を変えずに量子状態の情報を調べる関数の一覧です。"
   ]
  },
  {
   "cell_type": "code",
   "execution_count": null,
   "metadata": {},
   "outputs": [],
   "source": [
    "from qulacs import QuantumState\n",
    "\n",
    "n = 5\n",
    "state = QuantumState(n)\n",
    "state.set_Haar_random_state(0)\n",
    "\n",
    "# 量子ビットの数を得る。\n",
    "qubit_count = state.get_qubit_count()\n",
    "print(\"qubit_count\", qubit_count)\n",
    "\n",
    "# 指定番目の量子ビットが0に測定される確率を得る\n",
    "prob = state.get_zero_probability(1)\n",
    "print(\"zero_prob_1\", prob)\n",
    "\n",
    "# 任意の周辺確率を得る\n",
    "# 引数は量子ビット数と同じ長さの配列\n",
    "# 0,1,2を指定する。0,1はその添え字がその値で測定される確率、\n",
    "# 2はそのビットを周辺化することを意味する。\n",
    "# 例えば、3番目が0で、0番目が1と測定される確率の計算は下記\n",
    "prob = state.get_marginal_probability([1,2,2,0,2])\n",
    "print(\"marginal_prob\", prob)\n",
    "\n",
    "# Z基底で測定した時の確率分布のエントロピーを得る\n",
    "ent = state.get_entropy()\n",
    "print(\"entropy\", ent)\n",
    "\n",
    "# squared norm (<a|a>)の取得\n",
    "# Trace preservingでない操作が可能なため、状態のノルムが1とは限らない\n",
    "sq_norm = state.get_squared_norm()\n",
    "print(\"sqaured_norm\", sq_norm)\n",
    "\n",
    "# 引数で与えた数の回数Z基底で全量子ビットを測定しサンプリングする。\n",
    "# 得られるバイナリを整数値にしたもののリストを得る。\n",
    "samples = state.sampling(10)\n",
    "print(\"sampling\", samples)\n",
    "\n",
    "# 状態ベクトルがCPU/GPUのどちらにあるかを文字列で取得する\n",
    "dev_type = state.get_device_name()\n",
    "print(\"device\", dev_type)\n",
    "\n",
    "qubit_count 5\n",
    "zero_prob_1 0.5151171741097239\n",
    "marginal_prob 0.40401228349316776\n",
    "entropy 3.0788233113265715\n",
    "sqaured_norm 1.0\n",
    "sampling [23, 9, 8, 4, 25, 7, 7, 24, 20, 27]\n",
    "device cpu"
   ]
  },
  {
   "cell_type": "markdown",
   "metadata": {},
   "source": [
    "### 量子状態の変形"
   ]
  },
  {
   "cell_type": "markdown",
   "metadata": {},
   "source": [
    "下記の関数は量子状態を書き換える関数です。"
   ]
  },
  {
   "cell_type": "code",
   "execution_count": null,
   "metadata": {},
   "outputs": [],
   "source": [
    "from qulacs import QuantumState\n",
    "state = QuantumState(2)\n",
    "state.set_computational_basis(0)\n",
    "buffer = QuantumState(2)\n",
    "buffer.set_computational_basis(2)\n",
    "print(\"state\" , state.get_vector())\n",
    "print(\"buffer\", buffer.get_vector())\n",
    "\n",
    "# 量子状態間の和(state <- state+buffer)\n",
    "# stateにbufferの状態を足し重ね合わせ状態を作ります。 \n",
    "# 操作後のノルムは一般に1ではありません。\n",
    "state.add_state(buffer)\n",
    "print(\"added\", state.get_vector())\n",
    "\n",
    "# 量子状態と複素数の積\n",
    "# 引数の複素数を全要素に掛けます。\n",
    "# 操作後のノルムは一般に1ではありません。\n",
    "coef = 0.5 + 0.1j\n",
    "state.multiply_coef(coef)\n",
    "print(\"mul_coef\", state.get_vector())\n",
    "\n",
    "# 量子状態の正規化\n",
    "# 引数として現在のsquared normを与える必要があります。\n",
    "squared_norm = state.get_squared_norm()\n",
    "print(\"sq_norm\", squared_norm)\n",
    "state.normalize(squared_norm)\n",
    "print(\"normalized\", state.get_vector())\n",
    "print(\"sq_norm\", state.get_squared_norm())"
   ]
  },
  {
   "cell_type": "markdown",
   "metadata": {},
   "source": [
    "### 古典レジスタの操作\n",
    "\n",
    "量子状態は可変長の整数配列を古典レジスタを持ちます。古典レジスタはInstrument操作の結果を書き込んだり、古典レジスタの結果を条件として実行するゲートを記述するのに用います。まだ書き込まれていない古典レジスタの値は0です。なお、古典レジスタは<code>copy,load</code>関数で量子状態を複製した際に同時に複製されます。"
   ]
  },
  {
   "cell_type": "code",
   "execution_count": null,
   "metadata": {},
   "outputs": [],
   "source": [
    "from qulacs import QuantumState\n",
    "state = QuantumState(3)\n",
    "position = 0\n",
    "# position番目にvalueを書き込みます\n",
    "value = 20\n",
    "state.set_classical_value(position, value)\n",
    "# position番目のレジスタ値を得ます\n",
    "obtained = state.get_classical_value(position)\n",
    "print(obtained)"
   ]
  },
  {
   "cell_type": "markdown",
   "metadata": {},
   "source": [
    "### 量子状態間の計算\n",
    "量子状態間の内積は<code>inner_product</code>で得られます。"
   ]
  },
  {
   "cell_type": "code",
   "execution_count": null,
   "metadata": {},
   "outputs": [],
   "source": [
    "from qulacs import QuantumState\n",
    "from qulacs.state import inner_product\n",
    "\n",
    "n = 5\n",
    "state_bra = QuantumState(n)\n",
    "state_ket = QuantumState(n)\n",
    "state_bra.set_Haar_random_state()\n",
    "state_ket.set_computational_basis(0)\n",
    "\n",
    "# 内積値の計算\n",
    "value = inner_product(state_bra, state_ket)\n",
    "print(value)"
   ]
  },
  {
   "cell_type": "markdown",
   "metadata": {},
   "source": [
    "### GPUを用いた計算\n",
    "\n",
    "Qulacsをqulacs-gpuパッケージからインストールした場合、<code>QuantumStateGpu</code>クラスが使用できます。クラス名が異なる以外、利用方法は<code>QuantumState</code>と同じです。"
   ]
  },
  {
   "cell_type": "code",
   "execution_count": null,
   "metadata": {},
   "outputs": [],
   "source": [
    "from qulacs import QuantumStateGpu\n",
    "state = QuantumStateGpu(2)\n",
    "print(state)\n",
    "print(state.get_device_name())"
   ]
  },
  {
   "cell_type": "code",
   "execution_count": null,
   "metadata": {},
   "outputs": [],
   "source": [
    "gpu\n",
    "使い方は<code>QuantumState</code>と同様ですが、二点留意点があります。\n",
    "1. <code>get_vector</code>関数はGPU/CPU間のコピーを要するため長い時間がかかります。出来る限りこの関数の利用を回避して計算を行うべきです。\n",
    "2. CPU/GPUの状態間の<code>inner_product</code>は計算できません。GPUとCPUの状態ベクトルの間で状態ベクトルの<code>load</code>を行うことは可能ですが、時間がかかるので避けるべきです。"
   ]
  }
 ],
 "metadata": {
  "file_extension": ".py",
  "kernelspec": {
   "display_name": "Python 3",
   "language": "python",
   "name": "python3"
  },
  "language_info": {
   "codemirror_mode": {
    "name": "ipython",
    "version": 3
   },
   "file_extension": ".py",
   "mimetype": "text/x-python",
   "name": "python",
   "nbconvert_exporter": "python",
   "pygments_lexer": "ipython3",
   "version": "3.7.6-final"
  },
  "mimetype": "text/x-python",
  "name": "python",
  "npconvert_exporter": "python",
  "pygments_lexer": "ipython3",
  "version": 3
 },
 "nbformat": 4,
 "nbformat_minor": 4
}