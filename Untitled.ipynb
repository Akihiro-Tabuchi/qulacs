{
 "cells": [
  {
   "cell_type": "markdown",
   "metadata": {},
   "source": [
    "# 環境\n",
    "\n",
    "```git clone git@github.com:Qulacs-Osaka/qulacs-osaka.git```\n",
    "\n",
    "```(sudo) python3 setup.py install```\n",
    "\n",
    "```pip3 install qulacs``` をしてるとダメだったかも？(```pip3 uninstall qulacs```)\n"
   ]
  },
  {
   "cell_type": "markdown",
   "metadata": {},
   "source": [
    "# 使い方\n",
    "CausalConeをimportする"
   ]
  },
  {
   "cell_type": "code",
   "execution_count": 1,
   "metadata": {},
   "outputs": [],
   "source": [
    "from qulacs import Causal"
   ]
  },
  {
   "cell_type": "markdown",
   "metadata": {},
   "source": [
    "適当に回路をつくる"
   ]
  },
  {
   "cell_type": "code",
   "execution_count": 15,
   "metadata": {},
   "outputs": [],
   "source": [
    "from qulacs import QuantumState, QuantumCircuit, Observable\n",
    "from qulacs.gate import Z, RandomUnitary\n",
    "import numpy as np\n",
    "n = 5\n",
    "depth = 3\n",
    "onedimcircuit = QuantumCircuit(2*n)\n",
    "for i in range(depth):\n",
    "    for j in range(n):\n",
    "        onedimcircuit.add_gate(RandomUnitary([2*j,2*j+1]))\n",
    "    for j in range(n):\n",
    "        onedimcircuit.add_gate(RandomUnitary([2*j+1,(2*j+2)%(2*n)]))       \n",
    "observable = Observable(2*n)\n",
    "for i in range(2*n):\n",
    "    observable.add_operator(np.random.random(),\"Z {0}\".format(i))"
   ]
  },
  {
   "cell_type": "markdown",
   "metadata": {},
   "source": [
    "```Causal().CausalCone(circuit, observable)``` で期待値が複素数の状態で返されます"
   ]
  },
  {
   "cell_type": "code",
   "execution_count": 20,
   "metadata": {},
   "outputs": [
    {
     "name": "stdout",
     "output_type": "stream",
     "text": [
      "(-0.05176688047010915+0j)\n"
     ]
    }
   ],
   "source": [
    "print(Causal().CausalCone(onedimcircuit, observable))"
   ]
  },
  {
   "cell_type": "code",
   "execution_count": null,
   "metadata": {},
   "outputs": [],
   "source": []
  }
 ],
 "metadata": {
  "kernelspec": {
   "display_name": "Python 3",
   "language": "python",
   "name": "python3"
  },
  "language_info": {
   "codemirror_mode": {
    "name": "ipython",
    "version": 3
   },
   "file_extension": ".py",
   "mimetype": "text/x-python",
   "name": "python",
   "nbconvert_exporter": "python",
   "pygments_lexer": "ipython3",
   "version": "3.8.6"
  }
 },
 "nbformat": 4,
 "nbformat_minor": 4
}
