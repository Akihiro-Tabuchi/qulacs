{
 "cells": [
  {
   "cell_type": "code",
   "execution_count": 1,
   "metadata": {},
   "outputs": [],
   "source": [
    "from qulacs import CausalConeSimulator"
   ]
  },
  {
   "cell_type": "code",
   "execution_count": 2,
   "metadata": {},
   "outputs": [],
   "source": [
    "from qulacs import QuantumState, ParametricQuantumCircuit, Observable\n",
    "from qulacs.gate import Z, RandomUnitary\n",
    "import numpy as np\n",
    "n = 5\n",
    "depth = 3\n",
    "onedimcircuit = ParametricQuantumCircuit(2*n)\n",
    "for i in range(depth):\n",
    "    for j in range(n):\n",
    "        onedimcircuit.add_gate(RandomUnitary([2*j,2*j+1]))\n",
    "    for j in range(n):\n",
    "        onedimcircuit.add_gate(RandomUnitary([2*j+1,(2*j+2)%(2*n)]))       \n",
    "observable = Observable(2*n)\n",
    "for i in range(2*n):\n",
    "    observable.add_operator(np.random.random(),\"Z {0}\".format(i))"
   ]
  },
  {
   "cell_type": "code",
   "execution_count": 3,
   "metadata": {},
   "outputs": [],
   "source": [
    "causalcone = CausalConeSimulator(onedimcircuit, observable)"
   ]
  },
  {
   "cell_type": "code",
   "execution_count": 5,
   "metadata": {},
   "outputs": [],
   "source": [
    "causalcone.build()"
   ]
  },
  {
   "cell_type": "code",
   "execution_count": 6,
   "metadata": {},
   "outputs": [],
   "source": [
    "circuit = causalcone.get_circuit_list()"
   ]
  },
  {
   "cell_type": "code",
   "execution_count": 7,
   "metadata": {},
   "outputs": [
    {
     "name": "stdout",
     "output_type": "stream",
     "text": [
      "[[*** Quantum Circuit Info ***\n",
      "# of qubit: 10\n",
      "# of step : 6\n",
      "# of gate : 20\n",
      "# of 1 qubit gate: 0\n",
      "# of 2 qubit gate: 20\n",
      "Clifford  : no\n",
      "Gaussian  : no\n",
      "\n",
      "*** Parameter Info ***\n",
      "# of parameter: 0\n",
      "], [*** Quantum Circuit Info ***\n",
      "# of qubit: 10\n",
      "# of step : 6\n",
      "# of gate : 20\n",
      "# of 1 qubit gate: 0\n",
      "# of 2 qubit gate: 20\n",
      "Clifford  : no\n",
      "Gaussian  : no\n",
      "\n",
      "*** Parameter Info ***\n",
      "# of parameter: 0\n",
      "], [*** Quantum Circuit Info ***\n",
      "# of qubit: 10\n",
      "# of step : 6\n",
      "# of gate : 20\n",
      "# of 1 qubit gate: 0\n",
      "# of 2 qubit gate: 20\n",
      "Clifford  : no\n",
      "Gaussian  : no\n",
      "\n",
      "*** Parameter Info ***\n",
      "# of parameter: 0\n",
      "], [*** Quantum Circuit Info ***\n",
      "# of qubit: 10\n",
      "# of step : 6\n",
      "# of gate : 20\n",
      "# of 1 qubit gate: 0\n",
      "# of 2 qubit gate: 20\n",
      "Clifford  : no\n",
      "Gaussian  : no\n",
      "\n",
      "*** Parameter Info ***\n",
      "# of parameter: 0\n",
      "], [*** Quantum Circuit Info ***\n",
      "# of qubit: 10\n",
      "# of step : 6\n",
      "# of gate : 20\n",
      "# of 1 qubit gate: 0\n",
      "# of 2 qubit gate: 20\n",
      "Clifford  : no\n",
      "Gaussian  : no\n",
      "\n",
      "*** Parameter Info ***\n",
      "# of parameter: 0\n",
      "], [*** Quantum Circuit Info ***\n",
      "# of qubit: 10\n",
      "# of step : 6\n",
      "# of gate : 20\n",
      "# of 1 qubit gate: 0\n",
      "# of 2 qubit gate: 20\n",
      "Clifford  : no\n",
      "Gaussian  : no\n",
      "\n",
      "*** Parameter Info ***\n",
      "# of parameter: 0\n",
      "], [*** Quantum Circuit Info ***\n",
      "# of qubit: 10\n",
      "# of step : 6\n",
      "# of gate : 20\n",
      "# of 1 qubit gate: 0\n",
      "# of 2 qubit gate: 20\n",
      "Clifford  : no\n",
      "Gaussian  : no\n",
      "\n",
      "*** Parameter Info ***\n",
      "# of parameter: 0\n",
      "], [*** Quantum Circuit Info ***\n",
      "# of qubit: 10\n",
      "# of step : 6\n",
      "# of gate : 20\n",
      "# of 1 qubit gate: 0\n",
      "# of 2 qubit gate: 20\n",
      "Clifford  : no\n",
      "Gaussian  : no\n",
      "\n",
      "*** Parameter Info ***\n",
      "# of parameter: 0\n",
      "], [*** Quantum Circuit Info ***\n",
      "# of qubit: 10\n",
      "# of step : 6\n",
      "# of gate : 20\n",
      "# of 1 qubit gate: 0\n",
      "# of 2 qubit gate: 20\n",
      "Clifford  : no\n",
      "Gaussian  : no\n",
      "\n",
      "*** Parameter Info ***\n",
      "# of parameter: 0\n",
      "], [*** Quantum Circuit Info ***\n",
      "# of qubit: 10\n",
      "# of step : 6\n",
      "# of gate : 20\n",
      "# of 1 qubit gate: 0\n",
      "# of 2 qubit gate: 20\n",
      "Clifford  : no\n",
      "Gaussian  : no\n",
      "\n",
      "*** Parameter Info ***\n",
      "# of parameter: 0\n",
      "]]\n"
     ]
    }
   ],
   "source": [
    "print(circuit)"
   ]
  },
  {
   "cell_type": "code",
   "execution_count": null,
   "metadata": {},
   "outputs": [],
   "source": []
  }
 ],
 "metadata": {
  "kernelspec": {
   "display_name": "Python 3",
   "language": "python",
   "name": "python3"
  },
  "language_info": {
   "codemirror_mode": {
    "name": "ipython",
    "version": 3
   },
   "file_extension": ".py",
   "mimetype": "text/x-python",
   "name": "python",
   "nbconvert_exporter": "python",
   "pygments_lexer": "ipython3",
   "version": "3.8.6"
  }
 },
 "nbformat": 4,
 "nbformat_minor": 4
}
